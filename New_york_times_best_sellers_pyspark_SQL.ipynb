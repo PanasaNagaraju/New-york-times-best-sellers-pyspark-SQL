{
  "nbformat": 4,
  "nbformat_minor": 0,
  "metadata": {
    "colab": {
      "name": "New york times best sellers pyspark SQL.ipynb",
      "provenance": [],
      "collapsed_sections": []
    },
    "kernelspec": {
      "name": "python3",
      "display_name": "Python 3"
    },
    "language_info": {
      "name": "python"
    }
  },
  "cells": [
    {
      "cell_type": "code",
      "execution_count": null,
      "metadata": {
        "id": "M38Gwp-49YZ0",
        "colab": {
          "base_uri": "https://localhost:8080/"
        },
        "outputId": "5ec9a5ab-4957-4130-89f6-99d50925a145"
      },
      "outputs": [
        {
          "output_type": "stream",
          "name": "stdout",
          "text": [
            "Looking in indexes: https://pypi.org/simple, https://us-python.pkg.dev/colab-wheels/public/simple/\n",
            "Collecting pyspark\n",
            "  Downloading pyspark-3.2.1.tar.gz (281.4 MB)\n",
            "\u001b[K     |████████████████████████████████| 281.4 MB 37 kB/s \n",
            "\u001b[?25hCollecting py4j==0.10.9.3\n",
            "  Downloading py4j-0.10.9.3-py2.py3-none-any.whl (198 kB)\n",
            "\u001b[K     |████████████████████████████████| 198 kB 51.2 MB/s \n",
            "\u001b[?25hBuilding wheels for collected packages: pyspark\n",
            "  Building wheel for pyspark (setup.py) ... \u001b[?25l\u001b[?25hdone\n",
            "  Created wheel for pyspark: filename=pyspark-3.2.1-py2.py3-none-any.whl size=281853642 sha256=aea2a1923b5b0deb42ef9967114cbdc4c17058bf864f4af0b7ed4a4eef14dd5b\n",
            "  Stored in directory: /root/.cache/pip/wheels/9f/f5/07/7cd8017084dce4e93e84e92efd1e1d5334db05f2e83bcef74f\n",
            "Successfully built pyspark\n",
            "Installing collected packages: py4j, pyspark\n",
            "Successfully installed py4j-0.10.9.3 pyspark-3.2.1\n"
          ]
        }
      ],
      "source": [
        "!pip install pyspark"
      ]
    },
    {
      "cell_type": "code",
      "source": [
        "import pyspark"
      ],
      "metadata": {
        "id": "EIJCSQIWU-jv"
      },
      "execution_count": null,
      "outputs": []
    },
    {
      "cell_type": "code",
      "source": [
        "from pyspark.sql import SparkSession"
      ],
      "metadata": {
        "id": "AssFxH2gVCrC"
      },
      "execution_count": null,
      "outputs": []
    },
    {
      "cell_type": "code",
      "source": [
        "spark=SparkSession.builder.appName('sqlspark').getOrCreate()"
      ],
      "metadata": {
        "id": "k5fb5yRbVPIr"
      },
      "execution_count": null,
      "outputs": []
    },
    {
      "cell_type": "code",
      "source": [
        "bestseller=spark.read.json('/content/nyt2.json')"
      ],
      "metadata": {
        "id": "saUeP4IuVtrY"
      },
      "execution_count": null,
      "outputs": []
    },
    {
      "cell_type": "code",
      "source": [
        "bestseller.show(5)"
      ],
      "metadata": {
        "colab": {
          "base_uri": "https://localhost:8080/"
        },
        "id": "1i_SOwKJWRC2",
        "outputId": "6468223a-3e2a-422f-821b-e2155391fce1"
      },
      "execution_count": null,
      "outputs": [
        {
          "output_type": "stream",
          "name": "stdout",
          "text": [
            "+--------------------+--------------------+-----------------+-----------------+--------------------+-------------+-----------------+-------------+----+--------------+--------------------+-------------+\n",
            "|                 _id|  amazon_product_url|           author| bestsellers_date|         description|        price|   published_date|    publisher|rank|rank_last_week|               title|weeks_on_list|\n",
            "+--------------------+--------------------+-----------------+-----------------+--------------------+-------------+-----------------+-------------+----+--------------+--------------------+-------------+\n",
            "|{5b4aa4ead3089013...|http://www.amazon...|    Dean R Koontz|{{1211587200000}}|Odd Thomas, who c...|   {null, 27}|{{1212883200000}}|       Bantam| {1}|           {0}|           ODD HOURS|          {1}|\n",
            "|{5b4aa4ead3089013...|http://www.amazon...|  Stephenie Meyer|{{1211587200000}}|Aliens have taken...|{25.99, null}|{{1212883200000}}|Little, Brown| {2}|           {1}|            THE HOST|          {3}|\n",
            "|{5b4aa4ead3089013...|http://www.amazon...|     Emily Giffin|{{1211587200000}}|A woman's happy m...|{24.95, null}|{{1212883200000}}| St. Martin's| {3}|           {2}|LOVE THE ONE YOU'...|          {2}|\n",
            "|{5b4aa4ead3089013...|http://www.amazon...|Patricia Cornwell|{{1211587200000}}|A Massachusetts s...|{22.95, null}|{{1212883200000}}|       Putnam| {4}|           {0}|           THE FRONT|          {1}|\n",
            "|{5b4aa4ead3089013...|http://www.amazon...|  Chuck Palahniuk|{{1211587200000}}|An aging porn que...|{24.95, null}|{{1212883200000}}|    Doubleday| {5}|           {0}|               SNUFF|          {1}|\n",
            "+--------------------+--------------------+-----------------+-----------------+--------------------+-------------+-----------------+-------------+----+--------------+--------------------+-------------+\n",
            "only showing top 5 rows\n",
            "\n"
          ]
        }
      ]
    },
    {
      "cell_type": "code",
      "source": [
        "bestseller.printSchema()"
      ],
      "metadata": {
        "colab": {
          "base_uri": "https://localhost:8080/"
        },
        "id": "qTtlJK1dWWaW",
        "outputId": "ff37f5fa-9b25-4498-c0da-e8aa84763de0"
      },
      "execution_count": null,
      "outputs": [
        {
          "output_type": "stream",
          "name": "stdout",
          "text": [
            "root\n",
            " |-- _id: struct (nullable = true)\n",
            " |    |-- $oid: string (nullable = true)\n",
            " |-- amazon_product_url: string (nullable = true)\n",
            " |-- author: string (nullable = true)\n",
            " |-- bestsellers_date: struct (nullable = true)\n",
            " |    |-- $date: struct (nullable = true)\n",
            " |    |    |-- $numberLong: string (nullable = true)\n",
            " |-- description: string (nullable = true)\n",
            " |-- price: struct (nullable = true)\n",
            " |    |-- $numberDouble: string (nullable = true)\n",
            " |    |-- $numberInt: string (nullable = true)\n",
            " |-- published_date: struct (nullable = true)\n",
            " |    |-- $date: struct (nullable = true)\n",
            " |    |    |-- $numberLong: string (nullable = true)\n",
            " |-- publisher: string (nullable = true)\n",
            " |-- rank: struct (nullable = true)\n",
            " |    |-- $numberInt: string (nullable = true)\n",
            " |-- rank_last_week: struct (nullable = true)\n",
            " |    |-- $numberInt: string (nullable = true)\n",
            " |-- title: string (nullable = true)\n",
            " |-- weeks_on_list: struct (nullable = true)\n",
            " |    |-- $numberInt: string (nullable = true)\n",
            "\n"
          ]
        }
      ]
    },
    {
      "cell_type": "code",
      "source": [
        "bestseller.describe().show()"
      ],
      "metadata": {
        "colab": {
          "base_uri": "https://localhost:8080/"
        },
        "id": "VKvbN_FRW3x7",
        "outputId": "009f4d27-ef7e-43f2-ec31-9eb76af077fb"
      },
      "execution_count": null,
      "outputs": [
        {
          "output_type": "stream",
          "name": "stdout",
          "text": [
            "+-------+--------------------+---------------+--------------------+---------+------------------+\n",
            "|summary|  amazon_product_url|         author|         description|publisher|             title|\n",
            "+-------+--------------------+---------------+--------------------+---------+------------------+\n",
            "|  count|               10195|          10195|               10195|    10195|             10195|\n",
            "|   mean|                null|           null|                null|     null|1877.7142857142858|\n",
            "| stddev|                null|           null|                null|     null| 370.9760613506458|\n",
            "|    min|http://www.amazon...|        AJ Finn|                    |      ACE|  10TH ANNIVERSARY|\n",
            "|    max|https://www.amazo...|various authors|’Tis for the Rebe...|allantine|               ZOO|\n",
            "+-------+--------------------+---------------+--------------------+---------+------------------+\n",
            "\n"
          ]
        }
      ]
    },
    {
      "cell_type": "code",
      "source": [
        "# To remove Dupliactes\n",
        "bestsellerdf=bestseller.dropDuplicates()"
      ],
      "metadata": {
        "id": "T4KZezVVW-6h"
      },
      "execution_count": null,
      "outputs": []
    },
    {
      "cell_type": "code",
      "source": [
        "bestsellerdf.describe().show()"
      ],
      "metadata": {
        "colab": {
          "base_uri": "https://localhost:8080/"
        },
        "id": "Qi5OXWktXfB5",
        "outputId": "b70d51d2-0598-44e7-dac4-10de06312dfa"
      },
      "execution_count": null,
      "outputs": [
        {
          "output_type": "stream",
          "name": "stdout",
          "text": [
            "+-------+--------------------+---------------+--------------------+---------+------------------+\n",
            "|summary|  amazon_product_url|         author|         description|publisher|             title|\n",
            "+-------+--------------------+---------------+--------------------+---------+------------------+\n",
            "|  count|               10195|          10195|               10195|    10195|             10195|\n",
            "|   mean|                null|           null|                null|     null|1877.7142857142858|\n",
            "| stddev|                null|           null|                null|     null| 370.9760613506458|\n",
            "|    min|http://www.amazon...|        AJ Finn|                    |      ACE|  10TH ANNIVERSARY|\n",
            "|    max|https://www.amazo...|various authors|’Tis for the Rebe...|allantine|               ZOO|\n",
            "+-------+--------------------+---------------+--------------------+---------+------------------+\n",
            "\n"
          ]
        }
      ]
    },
    {
      "cell_type": "code",
      "source": [
        "# Querying operations such as subsetting columns with \"Select\", adding conditions with \"When\" and \n",
        "# filtering column contents with \"Like\""
      ],
      "metadata": {
        "id": "mjs7_NXVXjkU"
      },
      "execution_count": null,
      "outputs": []
    },
    {
      "cell_type": "code",
      "source": [
        "# Select only \"author\" variable\n",
        "bestsellerdf.select('author').show(10)"
      ],
      "metadata": {
        "colab": {
          "base_uri": "https://localhost:8080/"
        },
        "id": "gMkk5dThYIZW",
        "outputId": "e91ff52c-61d2-4ea1-c733-a26fb5dc96d3"
      },
      "execution_count": null,
      "outputs": [
        {
          "output_type": "stream",
          "name": "stdout",
          "text": [
            "+------------------+\n",
            "|            author|\n",
            "+------------------+\n",
            "|      Daniel Silva|\n",
            "|        Jane Green|\n",
            "|          J D Robb|\n",
            "|     Toni Morrison|\n",
            "|   Nicholas Sparks|\n",
            "|   Stephenie Meyer|\n",
            "|          Lisa See|\n",
            "|    David Baldacci|\n",
            "|Laurell K Hamilton|\n",
            "|     Leila Meacham|\n",
            "+------------------+\n",
            "only showing top 10 rows\n",
            "\n"
          ]
        }
      ]
    },
    {
      "cell_type": "code",
      "source": [
        "bestsellerdf.select(\"author\").distinct().count()   # Unique authors"
      ],
      "metadata": {
        "colab": {
          "base_uri": "https://localhost:8080/"
        },
        "id": "jfue-A6QYUJA",
        "outputId": "8646c122-ef12-4721-8a01-4980e87b53b7"
      },
      "execution_count": null,
      "outputs": [
        {
          "output_type": "execute_result",
          "data": {
            "text/plain": [
              "738"
            ]
          },
          "metadata": {},
          "execution_count": 14
        }
      ]
    },
    {
      "cell_type": "code",
      "source": [
        "bestsellerdf.select(\"author\",\"title\",\"rank\",\"price\").show(10)"
      ],
      "metadata": {
        "colab": {
          "base_uri": "https://localhost:8080/"
        },
        "id": "Oz_2qqpSY6fB",
        "outputId": "32dd5a66-eeba-49f3-a2b8-19c22a0b2eb6"
      },
      "execution_count": null,
      "outputs": [
        {
          "output_type": "stream",
          "name": "stdout",
          "text": [
            "+------------------+-------------------+----+-------------+\n",
            "|            author|              title|rank|        price|\n",
            "+------------------+-------------------+----+-------------+\n",
            "|      Daniel Silva| THE SECRET SERVANT| {1}|{26.95, null}|\n",
            "|        Jane Green|    THE BEACH HOUSE|{18}|    {null, 0}|\n",
            "|          J D Robb| SALVATION IN DEATH| {2}|{25.95, null}|\n",
            "|     Toni Morrison|            A MERCY| {5}|{23.95, null}|\n",
            "|   Nicholas Sparks|      THE LUCKY ONE|{16}|    {null, 0}|\n",
            "|   Stephenie Meyer|           THE HOST| {5}|{25.99, null}|\n",
            "|          Lisa See|     SHANGHAI GIRLS| {4}|   {null, 25}|\n",
            "|    David Baldacci|          TRUE BLUE|{14}|{27.99, null}|\n",
            "|Laurell K Hamilton|DIVINE MISDEMEANORS|{18}|    {null, 0}|\n",
            "|     Leila Meacham|              ROSES| {9}|{24.99, null}|\n",
            "+------------------+-------------------+----+-------------+\n",
            "only showing top 10 rows\n",
            "\n"
          ]
        }
      ]
    },
    {
      "cell_type": "code",
      "source": [
        "bestsellerdf.groupBy(\"author\").count().show()"
      ],
      "metadata": {
        "colab": {
          "base_uri": "https://localhost:8080/"
        },
        "id": "DMwlYEoLZh2Q",
        "outputId": "2754dec9-7973-4a34-fec1-9157f711100f"
      },
      "execution_count": null,
      "outputs": [
        {
          "output_type": "stream",
          "name": "stdout",
          "text": [
            "+--------------------+-----+\n",
            "|              author|count|\n",
            "+--------------------+-----+\n",
            "|    Elin Hilderbrand|   58|\n",
            "|         Lisa Genova|    7|\n",
            "|   Sharon Kay Penman|    2|\n",
            "|          James Frey|    2|\n",
            "|        Will Allison|    1|\n",
            "|          Tea Obreht|    6|\n",
            "|   Patricia Cornwell|   64|\n",
            "|       Laurie R King|    6|\n",
            "|        Sarah Dunant|    1|\n",
            "|        Tim Johnston|    1|\n",
            "|          Sara Gruen|   13|\n",
            "|Tom Clancy with P...|    9|\n",
            "|        Terry Brooks|   19|\n",
            "|        Lisa Wingate|   42|\n",
            "|        Daniel Silva|   69|\n",
            "|Karen White, Beat...|    1|\n",
            "|      Rachel Kushner|    3|\n",
            "|      Jackie Collins|   14|\n",
            "|          Pat Conroy|   11|\n",
            "|          Ann B Ross|    5|\n",
            "+--------------------+-----+\n",
            "only showing top 20 rows\n",
            "\n"
          ]
        }
      ]
    },
    {
      "cell_type": "code",
      "source": [
        "# Which author has most books published?\n",
        "bestsellerdf.groupBy(\"author\").count().sort(\"count\",ascending=False).show()"
      ],
      "metadata": {
        "colab": {
          "base_uri": "https://localhost:8080/"
        },
        "id": "8kZnMiaPZ8Tu",
        "outputId": "4460d51b-386b-47e1-e448-f47297f956be"
      },
      "execution_count": null,
      "outputs": [
        {
          "output_type": "stream",
          "name": "stdout",
          "text": [
            "+--------------------+-----+\n",
            "|              author|count|\n",
            "+--------------------+-----+\n",
            "|        John Grisham|  226|\n",
            "|      David Baldacci|  222|\n",
            "|      Danielle Steel|  174|\n",
            "|        Stephen King|  157|\n",
            "|       Anthony Doerr|  141|\n",
            "|     Nicholas Sparks|  136|\n",
            "|      Kristin Hannah|  128|\n",
            "|       Stieg Larsson|  121|\n",
            "|James Patterson a...|  119|\n",
            "|   George R R Martin|  119|\n",
            "|     James Patterson|  115|\n",
            "|    Kathryn Stockett|  114|\n",
            "|     Janet Evanovich|  111|\n",
            "|       John Sandford|  107|\n",
            "|        Stuart Woods|  107|\n",
            "|    Michael Connelly|  104|\n",
            "|       Paula Hawkins|   97|\n",
            "|           Lee Child|   94|\n",
            "|    Charlaine Harris|   94|\n",
            "|        Jodi Picoult|   90|\n",
            "+--------------------+-----+\n",
            "only showing top 20 rows\n",
            "\n"
          ]
        }
      ]
    },
    {
      "cell_type": "code",
      "source": [
        "# Print all titles published by John Grisham\n",
        "bestsellerdf.select(\"author\",\"title\",\"rank\").filter(bestsellerdf.author==\"John Grisham\").show()"
      ],
      "metadata": {
        "colab": {
          "base_uri": "https://localhost:8080/"
        },
        "id": "9AqFOgWlaqiZ",
        "outputId": "2a134c34-f7c8-4d53-8281-408d6c6089b6"
      },
      "execution_count": null,
      "outputs": [
        {
          "output_type": "stream",
          "name": "stdout",
          "text": [
            "+------------+--------------+----+\n",
            "|      author|         title|rank|\n",
            "+------------+--------------+----+\n",
            "|John Grisham| THE RACKETEER| {5}|\n",
            "|John Grisham| GRAY MOUNTAIN| {3}|\n",
            "|John Grisham|  ROGUE LAWYER|{10}|\n",
            "|John Grisham| THE ASSOCIATE| {2}|\n",
            "|John Grisham|THE CONFESSION| {9}|\n",
            "|John Grisham|THE LITIGATORS| {8}|\n",
            "|John Grisham| GRAY MOUNTAIN| {2}|\n",
            "|John Grisham|   FORD COUNTY| {7}|\n",
            "|John Grisham|  SYCAMORE ROW| {5}|\n",
            "|John Grisham| GRAY MOUNTAIN| {2}|\n",
            "|John Grisham|  ROGUE LAWYER| {1}|\n",
            "|John Grisham|  ROGUE LAWYER| {3}|\n",
            "|John Grisham|   FORD COUNTY| {4}|\n",
            "|John Grisham|    CALICO JOE| {9}|\n",
            "|John Grisham|THE CONFESSION| {2}|\n",
            "|John Grisham| GRAY MOUNTAIN| {1}|\n",
            "|John Grisham| THE RACKETEER| {3}|\n",
            "|John Grisham| THE RACKETEER| {3}|\n",
            "|John Grisham|  SYCAMORE ROW| {5}|\n",
            "|John Grisham| THE ASSOCIATE| {3}|\n",
            "+------------+--------------+----+\n",
            "only showing top 20 rows\n",
            "\n"
          ]
        }
      ]
    },
    {
      "cell_type": "code",
      "source": [
        "# Print all titles published by John Grisham\n",
        "bestsellerdf.select(\"author\",\"title\",\"rank\").where(bestsellerdf.author==\"John Grisham\").dropDuplicates(['title']).sort(\"rank\").show()\n",
        "# Where & filter are same or alias"
      ],
      "metadata": {
        "colab": {
          "base_uri": "https://localhost:8080/"
        },
        "id": "2zaW6YEfdZ1c",
        "outputId": "6fd37b59-4a24-4381-bc43-746438308440"
      },
      "execution_count": null,
      "outputs": [
        {
          "output_type": "stream",
          "name": "stdout",
          "text": [
            "+------------+---------------+----+\n",
            "|      author|          title|rank|\n",
            "+------------+---------------+----+\n",
            "|John Grisham|  CAMINO ISLAND| {1}|\n",
            "|John Grisham|   ROGUE LAWYER|{10}|\n",
            "|John Grisham|     THE APPEAL|{19}|\n",
            "|John Grisham|  THE ASSOCIATE| {2}|\n",
            "|John Grisham|THE ROOSTER BAR| {2}|\n",
            "|John Grisham|  GRAY MOUNTAIN| {3}|\n",
            "|John Grisham|  THE RACKETEER| {5}|\n",
            "|John Grisham|   SYCAMORE ROW| {5}|\n",
            "|John Grisham|    FORD COUNTY| {7}|\n",
            "|John Grisham|   THE WHISTLER| {7}|\n",
            "|John Grisham| THE LITIGATORS| {8}|\n",
            "|John Grisham|     CALICO JOE| {9}|\n",
            "|John Grisham| THE CONFESSION| {9}|\n",
            "+------------+---------------+----+\n",
            "\n"
          ]
        }
      ]
    },
    {
      "cell_type": "code",
      "source": [
        "# Print all titles published by John Grisham distinct books titles\n",
        "bestsellerdf.select(\"author\",\"title\",\"rank\").where(bestsellerdf.author==\"John Grisham\").dropDuplicates(['title']).distinct().show()"
      ],
      "metadata": {
        "colab": {
          "base_uri": "https://localhost:8080/"
        },
        "id": "5xSBx8fteQWF",
        "outputId": "4e426f54-1068-4003-c533-2e30b5af977b"
      },
      "execution_count": null,
      "outputs": [
        {
          "output_type": "stream",
          "name": "stdout",
          "text": [
            "+------------+---------------+----+\n",
            "|      author|          title|rank|\n",
            "+------------+---------------+----+\n",
            "|John Grisham|     CALICO JOE| {9}|\n",
            "|John Grisham|  CAMINO ISLAND| {1}|\n",
            "|John Grisham|    FORD COUNTY| {7}|\n",
            "|John Grisham|  GRAY MOUNTAIN| {3}|\n",
            "|John Grisham|   ROGUE LAWYER|{10}|\n",
            "|John Grisham|   SYCAMORE ROW| {5}|\n",
            "|John Grisham|     THE APPEAL|{19}|\n",
            "|John Grisham|  THE ASSOCIATE| {2}|\n",
            "|John Grisham| THE CONFESSION| {9}|\n",
            "|John Grisham| THE LITIGATORS| {8}|\n",
            "|John Grisham|  THE RACKETEER| {5}|\n",
            "|John Grisham|THE ROOSTER BAR| {2}|\n",
            "|John Grisham|   THE WHISTLER| {7}|\n",
            "+------------+---------------+----+\n",
            "\n"
          ]
        }
      ]
    },
    {
      "cell_type": "code",
      "source": [
        "# Print all titles published by John Grisham unique books\n",
        "bestsellerdf.select(\"author\",\"title\",\"rank\").where(bestsellerdf.author==\"John Grisham\").dropDuplicates(['title']).distinct().count()"
      ],
      "metadata": {
        "colab": {
          "base_uri": "https://localhost:8080/"
        },
        "id": "xGe3uNVifLco",
        "outputId": "cb43bf89-21b5-4809-89e5-6fbbd870c937"
      },
      "execution_count": null,
      "outputs": [
        {
          "output_type": "execute_result",
          "data": {
            "text/plain": [
              "13"
            ]
          },
          "metadata": {},
          "execution_count": 21
        }
      ]
    },
    {
      "cell_type": "code",
      "source": [
        "# Distinct titles publishing by \"David Baldacci\"\n",
        "bestsellerdf.select(\"author\",\"title\",\"rank\").where(bestsellerdf.author==\"David Baldacci\").dropDuplicates(['title']).distinct().show(25)"
      ],
      "metadata": {
        "colab": {
          "base_uri": "https://localhost:8080/"
        },
        "id": "7fCCEdKIfY_C",
        "outputId": "1968ed26-7df5-4fa9-b0c2-685a4183fe24"
      },
      "execution_count": null,
      "outputs": [
        {
          "output_type": "stream",
          "name": "stdout",
          "text": [
            "+--------------+--------------------+----+\n",
            "|        author|               title|rank|\n",
            "+--------------+--------------------+----+\n",
            "|David Baldacci|DELIVER US FROM EVIL|{17}|\n",
            "|David Baldacci|      DIVINE JUSTICE|{11}|\n",
            "|David Baldacci|            END GAME|{14}|\n",
            "|David Baldacci|        FIRST FAMILY| {8}|\n",
            "|David Baldacci|       HELL'S CORNER|{13}|\n",
            "|David Baldacci|    KING AND MAXWELL| {5}|\n",
            "|David Baldacci|          MEMORY MAN|{20}|\n",
            "|David Baldacci|       NO MAN'S LAND| {6}|\n",
            "|David Baldacci|          ONE SUMMER| {5}|\n",
            "|David Baldacci|          THE ESCAPE|{11}|\n",
            "|David Baldacci|          THE FALLEN| {2}|\n",
            "|David Baldacci|             THE FIX| {1}|\n",
            "|David Baldacci|       THE FORGOTTEN|{11}|\n",
            "|David Baldacci|          THE GUILTY| {6}|\n",
            "|David Baldacci|             THE HIT| {2}|\n",
            "|David Baldacci|        THE INNOCENT| {8}|\n",
            "|David Baldacci|       THE LAST MILE| {5}|\n",
            "|David Baldacci|       THE SIXTH MAN| {3}|\n",
            "|David Baldacci|          THE TARGET|{13}|\n",
            "|David Baldacci|     THE WHOLE TRUTH|{10}|\n",
            "|David Baldacci|           TRUE BLUE|{14}|\n",
            "|David Baldacci|            ZERO DAY| {7}|\n",
            "+--------------+--------------------+----+\n",
            "\n"
          ]
        }
      ]
    },
    {
      "cell_type": "code",
      "source": [
        "# Print all titles published by \"David Baldacci\" unique books\n",
        "bestsellerdf.select(\"author\",\"title\",\"rank\").where(bestsellerdf.author==\"David Baldacci\").dropDuplicates(['title']).distinct().count()"
      ],
      "metadata": {
        "colab": {
          "base_uri": "https://localhost:8080/"
        },
        "id": "aL0lxJMwgVuA",
        "outputId": "a8eab715-66d2-4739-cf5f-5b41eba58891"
      },
      "execution_count": null,
      "outputs": [
        {
          "output_type": "execute_result",
          "data": {
            "text/plain": [
              "22"
            ]
          },
          "metadata": {},
          "execution_count": 23
        }
      ]
    },
    {
      "cell_type": "code",
      "source": [
        "# Books published by Stephen King and Danielle Steel\n",
        "bestsellerdf.select(\"author\",\"title\",\"rank\").where(bestsellerdf.author.isin(\"Stephen King\",\"Danielle Steel\")).dropDuplicates(['title']).show()"
      ],
      "metadata": {
        "colab": {
          "base_uri": "https://localhost:8080/"
        },
        "id": "3s2yczWdgcYV",
        "outputId": "7f33f8b6-ac0e-41e7-815b-eded6bea8bb0"
      },
      "execution_count": null,
      "outputs": [
        {
          "output_type": "stream",
          "name": "stdout",
          "text": [
            "+--------------+-----------------+----+\n",
            "|        author|            title|rank|\n",
            "+--------------+-----------------+----+\n",
            "|  Stephen King|         11/22/63| {6}|\n",
            "|Danielle Steel|44 CHARLES STREET|{11}|\n",
            "|Danielle Steel|     A GOOD WOMAN|{18}|\n",
            "|Danielle Steel|   A PERFECT LIFE| {4}|\n",
            "|Danielle Steel|ACCIDENTAL HEROES| {1}|\n",
            "|Danielle Steel| AGAINST ALL ODDS| {3}|\n",
            "|Danielle Steel|         BETRAYAL| {7}|\n",
            "|Danielle Steel|         BIG GIRL| {5}|\n",
            "|  Stephen King|   BLOCKADE BILLY|{13}|\n",
            "|Danielle Steel|             BLUE| {2}|\n",
            "|Danielle Steel|          COUNTRY|{12}|\n",
            "|Danielle Steel|  DANGEROUS GAMES| {7}|\n",
            "|  Stephen King|     DOCTOR SLEEP| {2}|\n",
            "|  Stephen King|     END OF WATCH|{18}|\n",
            "|Danielle Steel|        FAIRYTALE|{12}|\n",
            "|Danielle Steel|  FALL FROM GRACE| {2}|\n",
            "|Danielle Steel|      FAMILY TIES|{20}|\n",
            "|  Stephen King|  FINDERS KEEPERS|{13}|\n",
            "|Danielle Steel|      FIRST SIGHT| {8}|\n",
            "|Danielle Steel|  FRIENDS FOREVER|{11}|\n",
            "+--------------+-----------------+----+\n",
            "only showing top 20 rows\n",
            "\n"
          ]
        }
      ]
    },
    {
      "cell_type": "code",
      "source": [
        "# Books published by Stephen King and Danielle Steel\n",
        "bestsellerdf.select(\"author\",\"title\",\"rank\").where(bestsellerdf.author.isin([\"Stephen King\",\"Danielle Steel\"])).dropDuplicates(['title']).sort('author').show(100)"
      ],
      "metadata": {
        "colab": {
          "base_uri": "https://localhost:8080/"
        },
        "id": "skynbCFEh5fG",
        "outputId": "f808ad70-379a-4774-adcb-61056e2d922c"
      },
      "execution_count": null,
      "outputs": [
        {
          "output_type": "stream",
          "name": "stdout",
          "text": [
            "+--------------+--------------------+----+\n",
            "|        author|               title|rank|\n",
            "+--------------+--------------------+----+\n",
            "|Danielle Steel|   ACCIDENTAL HEROES| {1}|\n",
            "|Danielle Steel|            BIG GIRL| {5}|\n",
            "|Danielle Steel|                BLUE| {2}|\n",
            "|Danielle Steel|             COUNTRY|{12}|\n",
            "|Danielle Steel|   44 CHARLES STREET|{11}|\n",
            "|Danielle Steel|         FIRST SIGHT| {8}|\n",
            "|Danielle Steel|     FRIENDS FOREVER|{11}|\n",
            "|Danielle Steel|      HAPPY BIRTHDAY|{16}|\n",
            "|Danielle Steel|       HOTEL VENDOME|{18}|\n",
            "|Danielle Steel|              LEGACY|{12}|\n",
            "|Danielle Steel|               MAGIC| {5}|\n",
            "|Danielle Steel|     DANGEROUS GAMES| {7}|\n",
            "|Danielle Steel|        A GOOD WOMAN|{18}|\n",
            "|Danielle Steel|            BETRAYAL| {7}|\n",
            "|Danielle Steel|PROPERTY OF A NOB...| {4}|\n",
            "|Danielle Steel|               ROGUE| {4}|\n",
            "|Danielle Steel|      RUSHING WATERS| {6}|\n",
            "|Danielle Steel|     SOUTHERN LIGHTS| {8}|\n",
            "|Danielle Steel|       THE APARTMENT| {3}|\n",
            "|Danielle Steel|           THE AWARD| {4}|\n",
            "|Danielle Steel|            THE CAST| {1}|\n",
            "|Danielle Steel|         THE DUCHESS|{15}|\n",
            "|Danielle Steel|        THE MISTRESS| {9}|\n",
            "|Danielle Steel|      THE RIGHT TIME| {6}|\n",
            "|Danielle Steel|THE SINS OF THE M...| {7}|\n",
            "|Danielle Steel|          UNDERCOVER|{18}|\n",
            "|Danielle Steel|UNTIL THE END OF ...| {6}|\n",
            "|Danielle Steel|             WINNERS| {9}|\n",
            "|Danielle Steel|MATTERS OF THE HEART|{20}|\n",
            "|Danielle Steel|   ONE DAY AT A TIME| {5}|\n",
            "|Danielle Steel|    AGAINST ALL ODDS| {3}|\n",
            "|Danielle Steel|        PAST PERFECT| {6}|\n",
            "|Danielle Steel|           FAIRYTALE|{12}|\n",
            "|Danielle Steel|             PEGASUS|{11}|\n",
            "|Danielle Steel|          POWER PLAY| {9}|\n",
            "|Danielle Steel|     FALL FROM GRACE| {2}|\n",
            "|Danielle Steel|      PRECIOUS GIFTS|{14}|\n",
            "|Danielle Steel|      A PERFECT LIFE| {4}|\n",
            "|Danielle Steel|        PRODIGAL SON|{16}|\n",
            "|Danielle Steel|         FAMILY TIES|{20}|\n",
            "|  Stephen King|            11/22/63| {6}|\n",
            "|  Stephen King|      BLOCKADE BILLY|{13}|\n",
            "|  Stephen King|        MR. MERCEDES|{20}|\n",
            "|  Stephen King|        DOCTOR SLEEP| {2}|\n",
            "|  Stephen King|             REVIVAL| {4}|\n",
            "|  Stephen King|        END OF WATCH|{18}|\n",
            "|  Stephen King|THE BAZAAR OF BAD...| {4}|\n",
            "|  Stephen King|THE WIND THROUGH ...| {8}|\n",
            "|  Stephen King|     FINDERS KEEPERS|{13}|\n",
            "|  Stephen King| FULL DARK, NO STARS|{17}|\n",
            "|  Stephen King|        THE OUTSIDER| {4}|\n",
            "|  Stephen King|UNDER THE DOME, P...| {4}|\n",
            "|  Stephen King|   JUST AFTER SUNSET| {2}|\n",
            "+--------------+--------------------+----+\n",
            "\n"
          ]
        }
      ]
    },
    {
      "cell_type": "code",
      "source": [
        "# Count of books that start wuth word \"THE\"\n",
        "bestsellerdf.select(\"author\",\"title\",\"rank\").where(bestsellerdf.title.contains(\"THE\")).show()"
      ],
      "metadata": {
        "colab": {
          "base_uri": "https://localhost:8080/"
        },
        "id": "pqh99apuiS1Q",
        "outputId": "fed1f22d-321e-438b-8e63-5f330af10f47"
      },
      "execution_count": null,
      "outputs": [
        {
          "output_type": "stream",
          "name": "stdout",
          "text": [
            "+--------------------+--------------------+----+\n",
            "|              author|               title|rank|\n",
            "+--------------------+--------------------+----+\n",
            "|        Daniel Silva|  THE SECRET SERVANT| {1}|\n",
            "|          Jane Green|     THE BEACH HOUSE|{18}|\n",
            "|     Nicholas Sparks|       THE LUCKY ONE|{16}|\n",
            "|     Stephenie Meyer|            THE HOST| {5}|\n",
            "|        Robert Crais|      THE FIRST RULE|{19}|\n",
            "|        Aimee Bender|THE PARTICULAR SA...|{15}|\n",
            "|        Robert Crais|          THE SENTRY| {8}|\n",
            "|          Tea Obreht|    THE TIGER’S WIFE|{20}|\n",
            "|        Tom Perrotta|       THE LEFTOVERS|{18}|\n",
            "|         Umberto Eco| THE PRAGUE CEMETERY|{18}|\n",
            "|       Julian Barnes|THE SENSE OF AN E...|{18}|\n",
            "|  Karen Marie Moning|   INTO THE DREAMING|{14}|\n",
            "|Robert Kirkman an...|THE WALKING DEAD,...|{11}|\n",
            "|        John Grisham|       THE RACKETEER| {5}|\n",
            "|            C  J Box|         THE HIGHWAY| {7}|\n",
            "|    Robert Galbraith|THE CUCKOO'S CALLING| {3}|\n",
            "|        Louise Penny|HOW THE LIGHT GET...|{20}|\n",
            "|     Nicholas Sparks|    THE LONGEST RIDE|{10}|\n",
            "|    Armistead Maupin|THE DAYS OF ANNA ...| {7}|\n",
            "|      Jeffery Deaver|  THE SKIN COLLECTOR| {8}|\n",
            "+--------------------+--------------------+----+\n",
            "only showing top 20 rows\n",
            "\n"
          ]
        }
      ]
    },
    {
      "cell_type": "code",
      "source": [
        "# Count of books that start wuth word \"THE\"\n",
        "bestsellerdf.select(\"author\",\"title\",\"rank\").where(bestsellerdf.title.contains(\"THE\")).distinct().count()"
      ],
      "metadata": {
        "colab": {
          "base_uri": "https://localhost:8080/"
        },
        "id": "KRBmp1alknA4",
        "outputId": "43457a4b-3031-4750-9044-7365f2fbead9"
      },
      "execution_count": null,
      "outputs": [
        {
          "output_type": "execute_result",
          "data": {
            "text/plain": [
              "2940"
            ]
          },
          "metadata": {},
          "execution_count": 27
        }
      ]
    },
    {
      "cell_type": "code",
      "source": [
        "bestsellerdf.select(\"author\",\"title\",\"rank\").where(bestsellerdf.title.contains(\"THE\")).distinct().show(50)"
      ],
      "metadata": {
        "colab": {
          "base_uri": "https://localhost:8080/"
        },
        "id": "ZAjYTOckloHC",
        "outputId": "dd4bce51-2b70-409f-93ae-7bd35d3ef714"
      },
      "execution_count": null,
      "outputs": [
        {
          "output_type": "stream",
          "name": "stdout",
          "text": [
            "+--------------------+--------------------+----+\n",
            "|              author|               title|rank|\n",
            "+--------------------+--------------------+----+\n",
            "|           Brad Thor|    THE LAST PATRIOT|{10}|\n",
            "|        S M Stirling|  THE SCOURGE OF GOD|{19}|\n",
            "|       Sean Williams| THE FORCE UNLEASHED|{14}|\n",
            "|        Lorrie Moore|A GATE AT THE STAIRS|{10}|\n",
            "|     Nicholas Sparks|       THE LAST SONG|{10}|\n",
            "|        Stephen King|UNDER THE DOME, P...| {4}|\n",
            "|         Jean M Auel|THE LAND OF PAINT...| {8}|\n",
            "|          Anne Tyler|THE BEGINNER’S GO...|{16}|\n",
            "|         Vince Flynn|        THE LAST MAN| {4}|\n",
            "|        Jodi Picoult|     THE STORYTELLER|{14}|\n",
            "|     Nicholas Sparks|    THE LONGEST RIDE| {7}|\n",
            "|        Ian Caldwell|    THE FIFTH GOSPEL|{12}|\n",
            "|      Salman Rushdie|THE ENCHANTRESS O...|{20}|\n",
            "|    Kathryn Stockett|            THE HELP| {5}|\n",
            "|   Patricia Cornwell|THE SCARPETTA FACTOR|{12}|\n",
            "|     James Lee Burke|   THE GLASS RAINBOW|{15}|\n",
            "|          Glenn Beck|  THE OVERTON WINDOW|{20}|\n",
            "|James Patterson a...|THE POSTCARD KILLERS| {6}|\n",
            "|        John Grisham|      THE CONFESSION|{18}|\n",
            "|James Patterson a...|THE CHRISTMAS WED...| {5}|\n",
            "|           Lee Child|          THE AFFAIR|{11}|\n",
            "|      Louise Erdrich|     THE ROUND HOUSE|{15}|\n",
            "|      Nelson DeMille|         THE PANTHER| {2}|\n",
            "|      Nelson DeMille|         THE PANTHER|{18}|\n",
            "|        Jodi Picoult|     THE STORYTELLER|{10}|\n",
            "|          Ian McEwan|    THE CHILDREN ACT| {7}|\n",
            "|        Nora Roberts|            THE LIAR|{15}|\n",
            "|             C J Box|        OFF THE GRID|{11}|\n",
            "|Mary Ann Shaffer ...|THE GUERNSEY LITE...|{13}|\n",
            "|Clive Cussler and...|             THE SPY|{19}|\n",
            "|           Jan Karon|IN THE COMPANY OF...|{11}|\n",
            "|Clive Cussler and...|            THE RACE| {6}|\n",
            "|          Glenn Beck|      THE SNOW ANGEL|{11}|\n",
            "|     Nicholas Sparks|      THE BEST OF ME|{14}|\n",
            "|        Stephen King|THE WIND THROUGH ...| {9}|\n",
            "|    Philippa Gregory|THE KINGMAKER’S D...|{11}|\n",
            "|         Brent Weeks|  THE BLINDING KNIFE|{20}|\n",
            "|       Alex Berenson|    THE NIGHT RANGER|{10}|\n",
            "|      Kristin Hannah|     THE NIGHTINGALE| {3}|\n",
            "|          Jane Green|     THE BEACH HOUSE| {9}|\n",
            "|      Katherine Howe|THE PHYSICK BOOK ...| {5}|\n",
            "|    Philippa Gregory|     THE WHITE QUEEN| {2}|\n",
            "|        John Grisham|      THE CONFESSION| {2}|\n",
            "|         Jeff Shaara|     THE FINAL STORM|{10}|\n",
            "|          Anne Tyler|THE BEGINNER’S GO...|{17}|\n",
            "|        John Grisham|       THE RACKETEER| {3}|\n",
            "|   Patricia Cornwell|        THE BONE BED|{13}|\n",
            "|        Brad Meltzer|  THE FIFTH ASSASSIN| {3}|\n",
            "|        John Grisham|       THE RACKETEER| {7}|\n",
            "|     Khaled Hosseini|AND THE MOUNTAINS...| {2}|\n",
            "+--------------------+--------------------+----+\n",
            "only showing top 50 rows\n",
            "\n"
          ]
        }
      ]
    },
    {
      "cell_type": "code",
      "source": [
        "bestsellerdf.select(\"author\",\"title\",\"rank\").where(bestsellerdf.title.contains(\"THE\")).dropDuplicates(['title']).distinct().count()"
      ],
      "metadata": {
        "colab": {
          "base_uri": "https://localhost:8080/"
        },
        "id": "8jIuEIDpl8Vq",
        "outputId": "cec0276c-70ea-413c-e73e-353e2aa65181"
      },
      "execution_count": null,
      "outputs": [
        {
          "output_type": "execute_result",
          "data": {
            "text/plain": [
              "800"
            ]
          },
          "metadata": {},
          "execution_count": 29
        }
      ]
    },
    {
      "cell_type": "code",
      "source": [
        "bestsellerdf.select(\"author\",\"title\",\"rank\").where(bestsellerdf.title.startswith(\"THE\")).dropDuplicates(['title']).show(50)"
      ],
      "metadata": {
        "colab": {
          "base_uri": "https://localhost:8080/"
        },
        "id": "Cd8XWx22mODt",
        "outputId": "68ed1813-d975-4bac-f2d8-ba8cce2ae3d4"
      },
      "execution_count": null,
      "outputs": [
        {
          "output_type": "stream",
          "name": "stdout",
          "text": [
            "+--------------------+--------------------+----+\n",
            "|              author|               title|rank|\n",
            "+--------------------+--------------------+----+\n",
            "|         Steve Berry|     THE 14TH COLONY|{12}|\n",
            "|James Patterson a...|    THE 17TH SUSPECT|{14}|\n",
            "|     David Ebershoff|       THE 19TH WIFE|{17}|\n",
            "|       James Rollins|  THE 6TH EXTINCTION|{20}|\n",
            "|James Patterson a...|  THE 8TH CONFESSION|{16}|\n",
            "|           Tami Hoag|        THE 9TH GIRL|{20}|\n",
            "|James Patterson a...|    THE 9TH JUDGMENT| {1}|\n",
            "|        Chris Pavone|        THE ACCIDENT|{15}|\n",
            "|      Allison Pataki|THE ACCIDENTAL EM...|{12}|\n",
            "|   Joyce Carol Oates|        THE ACCURSED|{13}|\n",
            "|         Jim Butcher|THE AERONAUT'S WI...|{16}|\n",
            "|           Lee Child|          THE AFFAIR| {2}|\n",
            "|Karen Thompson Wa...| THE AGE OF MIRACLES|{10}|\n",
            "|        Fannie Flagg|THE ALL-GIRL FILL...|{16}|\n",
            "|   Brandon Sanderson|    THE ALLOY OF LAW| {7}|\n",
            "| Jennifer Chiaverini|     THE ALOHA QUILT|{11}|\n",
            "|        Jim Harrison|THE ANCIENT MINSTREL|{14}|\n",
            "|   Carlos Ruiz Zafón|    THE ANGEL'S GAME| {8}|\n",
            "|            J R Ward|   THE ANGELS' SHARE|{15}|\n",
            "|      Danielle Steel|       THE APARTMENT| {3}|\n",
            "|           Brad Thor|         THE APOSTLE| {9}|\n",
            "|        John Grisham|          THE APPEAL|{19}|\n",
            "|         Susan Wiggs|   THE APPLE ORCHARD|{12}|\n",
            "|        Chad Harbach| THE ART OF FIELDING| {9}|\n",
            "|         Garth Stein|THE ART OF RACING...|{17}|\n",
            "|Clive Cussler and...|        THE ASSASSIN|{14}|\n",
            "|       Hilary Mantel|THE ASSASSINATION...|{15}|\n",
            "|W E B Griffin and...|THE ASSASSINATION...| {7}|\n",
            "|        John Grisham|       THE ASSOCIATE| {2}|\n",
            "|           Brad Thor|  THE ATHENA PROJECT|{10}|\n",
            "|    Joel C Rosenberg|THE AUSCHWITZ ESCAPE|{11}|\n",
            "|    Melanie Benjamin|  THE AVIATOR'S WIFE|{15}|\n",
            "|      Danielle Steel|           THE AWARD| {4}|\n",
            "|   Brandon Sanderson|THE BANDS OF MOUR...|{13}|\n",
            "|        Stephen King|THE BAZAAR OF BAD...| {4}|\n",
            "|          Jane Green|     THE BEACH HOUSE|{18}|\n",
            "|            J R Ward|           THE BEAST| {2}|\n",
            "|        Louise Penny|THE BEAUTIFUL MYS...|{19}|\n",
            "|          Anne Tyler|THE BEGINNER’S GO...|{16}|\n",
            "|     Nicholas Sparks|      THE BEST OF ME| {6}|\n",
            "|Rita Mae Brown an...|     THE BIG CAT NAP|{14}|\n",
            "|         Steve Berry|   THE BISHOP'S PAWN|{15}|\n",
            "|           Tami Hoag|   THE BITTER SEASON| {9}|\n",
            "|James Patterson a...|      THE BLACK BOOK| {1}|\n",
            "|    Michael Connelly|       THE BLACK BOX| {2}|\n",
            "|       Martha Grimes|       THE BLACK CAT| {8}|\n",
            "|        Daniel Silva|     THE BLACK WIDOW|{11}|\n",
            "|         Brent Weeks|  THE BLINDING KNIFE|{20}|\n",
            "|James Rollins and...|    THE BLOOD GOSPEL| {8}|\n",
            "|         Brent Weeks|    THE BLOOD MIRROR| {8}|\n",
            "+--------------------+--------------------+----+\n",
            "only showing top 50 rows\n",
            "\n"
          ]
        }
      ]
    },
    {
      "cell_type": "code",
      "source": [
        "from pyspark.sql.functions import when,lit"
      ],
      "metadata": {
        "id": "KL-APc8joqB5"
      },
      "execution_count": null,
      "outputs": []
    },
    {
      "cell_type": "code",
      "source": [
        "# Create a New Column called Theme with love representing romance\n",
        "bestsellerdf=bestsellerdf.withColumn(\"Theme\",when(bestsellerdf.title.contains(\"LOVE\"),\"Romance\").otherwise(\"NonRomance\"))"
      ],
      "metadata": {
        "id": "AhG5s2efmb93"
      },
      "execution_count": null,
      "outputs": []
    },
    {
      "cell_type": "code",
      "source": [
        "bestsellerdf[bestsellerdf.Theme=='Romance'].count()"
      ],
      "metadata": {
        "colab": {
          "base_uri": "https://localhost:8080/"
        },
        "id": "X5kk88p_r4rk",
        "outputId": "7bbc5882-9bd5-40e2-ddad-5ed6f5558ed3"
      },
      "execution_count": null,
      "outputs": [
        {
          "output_type": "execute_result",
          "data": {
            "text/plain": [
              "105"
            ]
          },
          "metadata": {},
          "execution_count": 33
        }
      ]
    },
    {
      "cell_type": "code",
      "source": [
        "# Create a New Column called horror_theme with words like \"horror\" or \"mystery\" - horror or nonhorror\n",
        "bestsellerdf.select(\"title\").show(100,truncate=False)"
      ],
      "metadata": {
        "colab": {
          "base_uri": "https://localhost:8080/"
        },
        "id": "ZwcnSI_2sQm_",
        "outputId": "5dcdc6ef-7eb4-4553-d060-7a39f73ae6f1"
      },
      "execution_count": null,
      "outputs": [
        {
          "output_type": "stream",
          "name": "stdout",
          "text": [
            "+-------------------------------------------------+\n",
            "|title                                            |\n",
            "+-------------------------------------------------+\n",
            "|THE SECRET SERVANT                               |\n",
            "|THE BEACH HOUSE                                  |\n",
            "|SALVATION IN DEATH                               |\n",
            "|A MERCY                                          |\n",
            "|THE LUCKY ONE                                    |\n",
            "|THE HOST                                         |\n",
            "|SHANGHAI GIRLS                                   |\n",
            "|TRUE BLUE                                        |\n",
            "|DIVINE MISDEMEANORS                              |\n",
            "|ROSES                                            |\n",
            "|THE FIRST RULE                                   |\n",
            "|ANGELOLOGY                                       |\n",
            "|ABRAHAM LINCOLN: VAMPIRE HUNTER                  |\n",
            "|THE PARTICULAR SADNESS OF LEMON CAKE             |\n",
            "|THE SENTRY                                       |\n",
            "|THE TIGER’S WIFE                                 |\n",
            "|THE LEFTOVERS                                    |\n",
            "|THE PRAGUE CEMETERY                              |\n",
            "|THE SENSE OF AN ENDING                           |\n",
            "|TAKEN                                            |\n",
            "|DEATH OF KINGS                                   |\n",
            "|11/22/63                                         |\n",
            "|INTO THE DREAMING                                |\n",
            "|STOLEN PREY                                      |\n",
            "|WICKED BUSINESS                                  |\n",
            "|BROKEN HARBOR                                    |\n",
            "|THE WALKING DEAD, RISE OF THE GOVERNOR           |\n",
            "|THE RACKETEER                                    |\n",
            "|FAMILY PICTURES                                  |\n",
            "|THE HIGHWAY                                      |\n",
            "|THE CUCKOO'S CALLING                             |\n",
            "|HOW THE LIGHT GETS IN                            |\n",
            "|GONE GIRL                                        |\n",
            "|THE LONGEST RIDE                                 |\n",
            "|THE DAYS OF ANNA MADRIGAL                        |\n",
            "|FIRST LOVE                                       |\n",
            "|BLACKBERRY PIE MURDER                            |\n",
            "|THE SKIN COLLECTOR                               |\n",
            "|THE INVENTION OF WINGS                           |\n",
            "|THE BOOK OF LIFE                                 |\n",
            "|THE CINDERELLA MURDER                            |\n",
            "|REDEPLOYMENT                                     |\n",
            "|ENDANGERED                                       |\n",
            "|GATHERING PREY                                   |\n",
            "|MEMORY MAN                                       |\n",
            "|DEVIL'S BRIDGE                                   |\n",
            "|DARK PROMISES                                    |\n",
            "|I ALMOST FORGOT ABOUT YOU                        |\n",
            "|THE LAST PATRIOT                                 |\n",
            "|THE STORY OF EDGAR SAWTELLE                      |\n",
            "|THE STORY OF EDGAR SAWTELLE                      |\n",
            "|A CEDAR COVE CHRISTMAS                           |\n",
            "|A MCKETTRICK CHRISTMAS                           |\n",
            "|THE GUERNSEY LITERARY AND POTATO PEEL PIE SOCIETY|\n",
            "|WICKED PREY                                      |\n",
            "|RELENTLESS                                       |\n",
            "|SOUTH OF BROAD                                   |\n",
            "|THE CHRISTMAS SWEATER                            |\n",
            "|THE MIDNIGHT HOUSE                               |\n",
            "|FANTASY IN DEATH                                 |\n",
            "|EIGHT DAYS TO LIVE                               |\n",
            "|HANNAH'S LIST                                    |\n",
            "|EXECUTIVE INTENT                                 |\n",
            "|TELL-ALL                                         |\n",
            "|BLOCKADE BILLY                                   |\n",
            "|ALLIES                                           |\n",
            "|STAR ISLAND                                      |\n",
            "|FREEDOM                                          |\n",
            "|THE TIGER’S WIFE                                 |\n",
            "|FULL BLACK                                       |\n",
            "|SHOCK WAVE                                       |\n",
            "|THE DOVEKEEPERS                                  |\n",
            "|THE MARRIAGE PLOT                                |\n",
            "|ROBERT B. PARKER’S LULLABY                       |\n",
            "|ZOO                                              |\n",
            "|RED VELVET CUPCAKE MURDER                        |\n",
            "|THE REDEEMER                                     |\n",
            "|GONE GIRL                                        |\n",
            "|THE OCEAN AT THE END OF THE LANE                 |\n",
            "|MADDADDAM                                        |\n",
            "|CROSS MY HEART                                   |\n",
            "|TOP SECRET TWENTY-ONE                            |\n",
            "|BIG LITTLE LIES                                  |\n",
            "|THE INVENTION OF WINGS                           |\n",
            "|GRAY MOUNTAIN                                    |\n",
            "|ALL THE LIGHT WE CANNOT SEE                      |\n",
            "|BIG LITTLE LIES                                  |\n",
            "|PRODIGAL SON                                     |\n",
            "|COUNTRY                                          |\n",
            "|TOM CLANCY UNDER FIRE                            |\n",
            "|ROGUE LAWYER                                     |\n",
            "|GO SET A WATCHMAN                                |\n",
            "|JOURNEY TO MUNICH                                |\n",
            "|AFTER YOU                                        |\n",
            "|EXTREME PREY                                     |\n",
            "|TOM CLANCY: DUTY AND HONOR                       |\n",
            "|PLAGUE SHIP                                      |\n",
            "|THE GIVEN DAY                                    |\n",
            "|JUST AFTER SUNSET                                |\n",
            "|SCARPETTA                                        |\n",
            "+-------------------------------------------------+\n",
            "only showing top 100 rows\n",
            "\n"
          ]
        }
      ]
    },
    {
      "cell_type": "code",
      "source": [
        "bestsellerdf.select(\"author\",\"title\",\"rank\").where(\n",
        "    bestsellerdf.title.startswith(\"THE\")).dropDuplicates(['title']).show(50)"
      ],
      "metadata": {
        "colab": {
          "base_uri": "https://localhost:8080/"
        },
        "id": "YprNd6wsBMWf",
        "outputId": "861b58a3-d925-4774-8307-8f9fec45fb94"
      },
      "execution_count": null,
      "outputs": [
        {
          "output_type": "stream",
          "name": "stdout",
          "text": [
            "+--------------------+--------------------+----+\n",
            "|              author|               title|rank|\n",
            "+--------------------+--------------------+----+\n",
            "|         Steve Berry|     THE 14TH COLONY|{12}|\n",
            "|James Patterson a...|    THE 17TH SUSPECT|{14}|\n",
            "|     David Ebershoff|       THE 19TH WIFE|{17}|\n",
            "|       James Rollins|  THE 6TH EXTINCTION|{20}|\n",
            "|James Patterson a...|  THE 8TH CONFESSION|{16}|\n",
            "|           Tami Hoag|        THE 9TH GIRL|{20}|\n",
            "|James Patterson a...|    THE 9TH JUDGMENT| {1}|\n",
            "|        Chris Pavone|        THE ACCIDENT|{15}|\n",
            "|      Allison Pataki|THE ACCIDENTAL EM...|{12}|\n",
            "|   Joyce Carol Oates|        THE ACCURSED|{13}|\n",
            "|         Jim Butcher|THE AERONAUT'S WI...|{16}|\n",
            "|           Lee Child|          THE AFFAIR| {2}|\n",
            "|Karen Thompson Wa...| THE AGE OF MIRACLES|{10}|\n",
            "|        Fannie Flagg|THE ALL-GIRL FILL...|{16}|\n",
            "|   Brandon Sanderson|    THE ALLOY OF LAW| {7}|\n",
            "| Jennifer Chiaverini|     THE ALOHA QUILT|{11}|\n",
            "|        Jim Harrison|THE ANCIENT MINSTREL|{14}|\n",
            "|   Carlos Ruiz Zafón|    THE ANGEL'S GAME| {8}|\n",
            "|            J R Ward|   THE ANGELS' SHARE|{15}|\n",
            "|      Danielle Steel|       THE APARTMENT| {3}|\n",
            "|           Brad Thor|         THE APOSTLE| {9}|\n",
            "|        John Grisham|          THE APPEAL|{19}|\n",
            "|         Susan Wiggs|   THE APPLE ORCHARD|{12}|\n",
            "|        Chad Harbach| THE ART OF FIELDING| {9}|\n",
            "|         Garth Stein|THE ART OF RACING...|{17}|\n",
            "|Clive Cussler and...|        THE ASSASSIN|{14}|\n",
            "|       Hilary Mantel|THE ASSASSINATION...|{15}|\n",
            "|W E B Griffin and...|THE ASSASSINATION...| {7}|\n",
            "|        John Grisham|       THE ASSOCIATE| {2}|\n",
            "|           Brad Thor|  THE ATHENA PROJECT|{10}|\n",
            "|    Joel C Rosenberg|THE AUSCHWITZ ESCAPE|{11}|\n",
            "|    Melanie Benjamin|  THE AVIATOR'S WIFE|{15}|\n",
            "|      Danielle Steel|           THE AWARD| {4}|\n",
            "|   Brandon Sanderson|THE BANDS OF MOUR...|{13}|\n",
            "|        Stephen King|THE BAZAAR OF BAD...| {4}|\n",
            "|          Jane Green|     THE BEACH HOUSE|{18}|\n",
            "|            J R Ward|           THE BEAST| {2}|\n",
            "|        Louise Penny|THE BEAUTIFUL MYS...|{19}|\n",
            "|          Anne Tyler|THE BEGINNER’S GO...|{16}|\n",
            "|     Nicholas Sparks|      THE BEST OF ME| {6}|\n",
            "|Rita Mae Brown an...|     THE BIG CAT NAP|{14}|\n",
            "|         Steve Berry|   THE BISHOP'S PAWN|{15}|\n",
            "|           Tami Hoag|   THE BITTER SEASON| {9}|\n",
            "|James Patterson a...|      THE BLACK BOOK| {1}|\n",
            "|    Michael Connelly|       THE BLACK BOX| {2}|\n",
            "|       Martha Grimes|       THE BLACK CAT| {8}|\n",
            "|        Daniel Silva|     THE BLACK WIDOW|{11}|\n",
            "|         Brent Weeks|  THE BLINDING KNIFE|{20}|\n",
            "|James Rollins and...|    THE BLOOD GOSPEL| {8}|\n",
            "|         Brent Weeks|    THE BLOOD MIRROR| {8}|\n",
            "+--------------------+--------------------+----+\n",
            "only showing top 50 rows\n",
            "\n"
          ]
        }
      ]
    },
    {
      "cell_type": "code",
      "source": [
        "# Create a New Column called Theme with love representing romance\n",
        "from pyspark.sql.functions import when,lit\n",
        "bestsellerdf=bestsellerdf.withColumn(\"Theme\", when(bestsellerdf.description.contains(\"love\")|\n",
        "                                                   bestsellerdf.description.contains(\"romance\"),\"Romance\").otherwise(\"NonRomance\"))"
      ],
      "metadata": {
        "id": "RHmMKomzueBU"
      },
      "execution_count": null,
      "outputs": []
    },
    {
      "cell_type": "code",
      "source": [
        "bestsellerdf[bestsellerdf.Theme=='Romance'].count()"
      ],
      "metadata": {
        "colab": {
          "base_uri": "https://localhost:8080/"
        },
        "id": "7je5SxRqAy9D",
        "outputId": "11680a95-7274-4f9b-d608-c8ee0a514731"
      },
      "execution_count": null,
      "outputs": [
        {
          "output_type": "execute_result",
          "data": {
            "text/plain": [
              "443"
            ]
          },
          "metadata": {},
          "execution_count": 38
        }
      ]
    },
    {
      "cell_type": "code",
      "source": [
        "bestsellerdf.select(\"title\").where(bestsellerdf.title.contains(\"FAMILY\")).show(100,truncate=False)"
      ],
      "metadata": {
        "colab": {
          "base_uri": "https://localhost:8080/"
        },
        "id": "FoILZRuLBhkH",
        "outputId": "9f3a0969-6df2-4058-ed74-b4c5eaf713c4"
      },
      "execution_count": null,
      "outputs": [
        {
          "output_type": "stream",
          "name": "stdout",
          "text": [
            "+---------------------------+\n",
            "|title                      |\n",
            "+---------------------------+\n",
            "|FAMILY PICTURES            |\n",
            "|FIRST FAMILY               |\n",
            "|AN O'BRIEN FAMILY CHRISTMAS|\n",
            "|FIRST FAMILY               |\n",
            "|DEAD IN THE FAMILY         |\n",
            "|FAMILY TREE                |\n",
            "|DEAD IN THE FAMILY         |\n",
            "|DEAD IN THE FAMILY         |\n",
            "|DEAD IN THE FAMILY         |\n",
            "|FIRST FAMILY               |\n",
            "|DEAD IN THE FAMILY         |\n",
            "|DEAD IN THE FAMILY         |\n",
            "|DEAD IN THE FAMILY         |\n",
            "|FAMILY JEWELS              |\n",
            "|DEAD IN THE FAMILY         |\n",
            "|FAMILY JEWELS              |\n",
            "|FIRST FAMILY               |\n",
            "|THE FAMILY CORLEONE        |\n",
            "|DID YOU EVER HAVE A FAMILY |\n",
            "|FAMILY TIES                |\n",
            "|FIRST FAMILY               |\n",
            "|DEAD IN THE FAMILY         |\n",
            "|THE FAMILY CORLEONE        |\n",
            "|FIRST FAMILY               |\n",
            "|DEAD IN THE FAMILY         |\n",
            "|THE FAMILY CORLEONE        |\n",
            "|DEAD IN THE FAMILY         |\n",
            "|FAMILY TIES                |\n",
            "|DEAD IN THE FAMILY         |\n",
            "|DEAD IN THE FAMILY         |\n",
            "|FIRST FAMILY               |\n",
            "|DEAD IN THE FAMILY         |\n",
            "|FIRST FAMILY               |\n",
            "|DEAD IN THE FAMILY         |\n",
            "|DEAD IN THE FAMILY         |\n",
            "|FIRST FAMILY               |\n",
            "|FAMILY TIES                |\n",
            "|DEAD IN THE FAMILY         |\n",
            "|FAMILY TIES                |\n",
            "|FIRST FAMILY               |\n",
            "|DEAD IN THE FAMILY         |\n",
            "|A BAXTER FAMILY CHRISTMAS  |\n",
            "|A BAXTER FAMILY CHRISTMAS  |\n",
            "|A BAXTER FAMILY CHRISTMAS  |\n",
            "+---------------------------+\n",
            "\n"
          ]
        }
      ]
    },
    {
      "cell_type": "code",
      "source": [
        "bestsellerdf.select('description').show(30,truncate=False)"
      ],
      "metadata": {
        "colab": {
          "base_uri": "https://localhost:8080/"
        },
        "id": "pcX9gapUBlfi",
        "outputId": "ca20b3e0-c05e-4c80-f0ca-9541d00853d2"
      },
      "execution_count": null,
      "outputs": [
        {
          "output_type": "stream",
          "name": "stdout",
          "text": [
            "+----------------------------------------------------------------------------------------------------------------------------------------------------------------------------------+\n",
            "|description                                                                                                                                                                       |\n",
            "+----------------------------------------------------------------------------------------------------------------------------------------------------------------------------------+\n",
            "|Gabriel Allon, an art restorer and an occasional spy for the Israeli secret service, uncovers a Russian arms sales plot.                                                          |\n",
            "|A woman’s life changes when she rents out rooms in her Nantucket house.                                                                                                           |\n",
            "|Lt. Eve Dallas investigates the murder of a priest who was not who he seemed; by Nora Roberts, writing pseudonymously.                                                            |\n",
            "|In 17th-century America, a slave mother urges a Northern farmer to buy her daughter so that she can have a better life.                                                           |\n",
            "|A Marine returning home sets out to track down the woman whose photo he found in Iraq.                                                                                            |\n",
            "|Aliens have taken control of the minds and bodies of most humans, but one woman won’t surrender.                                                                                  |\n",
            "|Two Chinese sisters in the 1930s are sold as wives to men from California, and leave their war-torn country to join them.                                                         |\n",
            "|An ex-cop in Washington struggles to clear her name.                                                                                                                              |\n",
            "|In the eighth Meredith Gentry paranormal romance, Meredith, who has left the faerie court, is asked by the L.A.P.D. for assistance in solving a series of crimes.                 |\n",
            "|Three generations in a small East Texas town.                                                                                                                                     |\n",
            "|\\n\\nElvis Cole and his partner, Joe Pike, set out to clear the reputation of a former military contractor who has been murdered.                                                  |\n",
            "|A nun is drawn into an ancient struggle against the Nephilim, hybrid offspring of humans and heavenly beings.                                                                     |\n",
            "|Lincoln fights the undead; by the author of “Pride and Prejudice and Zombies.\"                                                                                                    |\n",
            "|A girl has insights into other people’s secret emotions.                                                                                                                          |\n",
            "|The former cop Joe Pike finds that a pair of Katrina refugees he helps aren’t all they seem.                                                                                      |\n",
            "|In an unnamed Balkan country, Natalia, a young doctor, investigates the mysterious circumstances surrounding her beloved grandfather’s death.                                     |\n",
            "|In Perrotta’s version of the Rapture, Hindus, Buddhists and Muslims as well as Christians mysteriously disappear.                                                                 |\n",
            "|A novel based on the twisted history of “The Protocols of the Elders of Zion.”                                                                                                    |\n",
            "|An unexpected bequest causes a man in his 60s to question his understanding of the past; winner of the 2011 Man Booker Prize.                                                     |\n",
            "|It’s Joe Pike to the rescue when Elvis Cole is seized by human traffickers.                                                                                                       |\n",
            "|As King Alfred lies near death, the Saxon warrior Uhtred must decide whether to support a united England or reclaim his ancestral lands in the north.                             |\n",
            "|A teacher travels back to 1958 by way of a time portal in a Maine diner.                                                                                                          |\n",
            "|A new edition of the Highland fantasy novella with bonus material.                                                                                                                |\n",
            "|When a Minnesota family is murdered, the Minneapolis investigator Lucas Davenport believes a Mexican drug gang is involved.                                                       |\n",
            "|The Salem, Mass., pastry chef Lizzy Tucker and her partner, Diesel, take up a quest for a powerful ancient relic.                                                                 |\n",
            "|A Dublin murder squad detective’s investigation of a crime in a seaside town evokes memories of his hard childhood there.                                                         |\n",
            "|In the second Walking Dead novel, Lilly Caul and other citizens seeking refuge from the zombie plague in Woodbury, Ga., begin to challenge the man who calls himself the Governor.|\n",
            "|An imprisoned ex-lawyer schemes to exchange information about a murdered federal judge for his freedom.                                                                           |\n",
            "|                                                                                                                                                                                  |\n",
            "|The former investigator Cody Hoyt searches for two teenage girls who disappeared on a cross-country trip.                                                                         |\n",
            "+----------------------------------------------------------------------------------------------------------------------------------------------------------------------------------+\n",
            "only showing top 30 rows\n",
            "\n"
          ]
        }
      ]
    },
    {
      "cell_type": "code",
      "source": [
        ""
      ],
      "metadata": {
        "id": "Mb05hfj8BsvG"
      },
      "execution_count": null,
      "outputs": []
    }
  ]
}